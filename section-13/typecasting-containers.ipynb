{
 "cells": [
  {
   "cell_type": "code",
   "execution_count": 3,
   "id": "7800a9fb-41ab-41c6-b2ec-9b55d8d9157f",
   "metadata": {},
   "outputs": [
    {
     "name": "stdout",
     "output_type": "stream",
     "text": [
      "(1, 2, 3)\n"
     ]
    }
   ],
   "source": [
    "# list -> tuple \n",
    "\n",
    "my_list = [1, 2, 3 ] \n",
    "my_tuple = tuple(my_list) \n",
    "type(my_tuple) \n",
    "print(my_tuple)"
   ]
  },
  {
   "cell_type": "code",
   "execution_count": 5,
   "id": "67d530ec-3881-4bf4-9ebe-d71d2271ae16",
   "metadata": {},
   "outputs": [
    {
     "name": "stdout",
     "output_type": "stream",
     "text": [
      "<class 'list'>\n",
      "[4, 5, 6]\n"
     ]
    }
   ],
   "source": [
    "# Tuple -> List \n",
    "my_tuple = (4, 5, 6,)\n",
    "my_list = list(my_tuple) \n",
    "print(type(my_list)) \n",
    "print(my_list) \n"
   ]
  },
  {
   "cell_type": "code",
   "execution_count": 6,
   "id": "0cc47c59-52da-4a82-8c2c-390bc9ddc407",
   "metadata": {},
   "outputs": [
    {
     "name": "stdout",
     "output_type": "stream",
     "text": [
      "[1, 2, 3]\n"
     ]
    }
   ],
   "source": [
    "# Set -> List \n",
    "\n",
    "my_set = {1, 2, 3} \n",
    "my_list = list(my_set) \n",
    "print(my_list)"
   ]
  },
  {
   "cell_type": "code",
   "execution_count": 7,
   "id": "d281f0a1-7e21-4115-892b-af879f92d344",
   "metadata": {},
   "outputs": [
    {
     "name": "stdout",
     "output_type": "stream",
     "text": [
      "{'a', 'b', 'c'}\n"
     ]
    }
   ],
   "source": [
    "# List -> Set \n",
    "my_list = ['a', 'b', 'c'] \n",
    "my_set = set(my_list) \n",
    "print(my_set)"
   ]
  },
  {
   "cell_type": "code",
   "execution_count": 14,
   "id": "fa6b98ec-494e-45e9-9b08-c669cc5b3232",
   "metadata": {},
   "outputs": [
    {
     "name": "stdout",
     "output_type": "stream",
     "text": [
      "['a', 'b', 'c']\n",
      "[1, 2, 3]\n"
     ]
    }
   ],
   "source": [
    "# Dict ( keys )  -> List \n",
    "my_dict = {'a': 1, 'b': 2, 'c': 3 } \n",
    "dict_keys = list(my_dict.keys()) \n",
    "dict_values = list(my_dict.values())\n",
    "print(dict_keys) \n",
    "print(dict_values) "
   ]
  },
  {
   "cell_type": "code",
   "execution_count": 15,
   "id": "8c0dff0d-9935-4f19-919e-43b57c5e7841",
   "metadata": {},
   "outputs": [
    {
     "name": "stdout",
     "output_type": "stream",
     "text": [
      "{'a': 1, 'b': 2, 'c': 3}\n"
     ]
    }
   ],
   "source": [
    "# List of Tuples to a Dict \n",
    "\n",
    "list_of_tuples = [ ('a', 1), ('b', 2), ('c', 3) ]\n",
    "my_dict = dict(list_of_tuples) \n",
    "print(my_dict) "
   ]
  },
  {
   "cell_type": "code",
   "execution_count": 16,
   "id": "d6a52523-28eb-44a0-9054-422412aafa21",
   "metadata": {},
   "outputs": [
    {
     "name": "stdout",
     "output_type": "stream",
     "text": [
      "(1, 'a', 'b')\n"
     ]
    }
   ],
   "source": [
    "# Set -> Tuple \n",
    "my_set = {'a', 'b', 1 } \n",
    "my_tuple = tuple(my_set) \n",
    "print(my_tuple) "
   ]
  },
  {
   "cell_type": "code",
   "execution_count": 17,
   "id": "15b89a4f-ead6-4b2d-8a9a-ca7b4d59b0ce",
   "metadata": {},
   "outputs": [
    {
     "name": "stdout",
     "output_type": "stream",
     "text": [
      "{1, 'a', 45}\n"
     ]
    }
   ],
   "source": [
    "my_tuple = (1, 'a', 45, ) \n",
    "my_set = set(my_tuple) \n",
    "print(my_set) "
   ]
  },
  {
   "cell_type": "code",
   "execution_count": 19,
   "id": "26414f49-54de-4cbd-948b-dc272af7e47a",
   "metadata": {},
   "outputs": [
    {
     "name": "stdout",
     "output_type": "stream",
     "text": [
      "((1, 'a'), (2, 'b'), (3, 'c'))\n"
     ]
    }
   ],
   "source": [
    "# Dict -> Tuple \n",
    "\n",
    "my_dict = {1: 'a', 2: 'b', 3: 'c' } \n",
    "my_tuple = tuple(my_dict.items()) \n",
    "print(my_tuple) "
   ]
  },
  {
   "cell_type": "code",
   "execution_count": 20,
   "id": "fb03de3a-6a51-4fe2-b757-f0a1603c9fd4",
   "metadata": {},
   "outputs": [
    {
     "name": "stdout",
     "output_type": "stream",
     "text": [
      "{0: 'a', 1: 'b', 2: 'c'}\n"
     ]
    }
   ],
   "source": [
    "# List -> Dict use enumerate \n",
    "\n",
    "my_list = ['a', 'b', 'c'] \n",
    "my_dict = dict(enumerate(my_list))\n",
    "print(my_dict) "
   ]
  },
  {
   "cell_type": "code",
   "execution_count": 21,
   "id": "091f878c-dfef-4cbf-9216-54bd6b7cf2b8",
   "metadata": {},
   "outputs": [
    {
     "name": "stdout",
     "output_type": "stream",
     "text": [
      "{'z', 'a', 'b', 'c', 'f'}\n"
     ]
    }
   ],
   "source": [
    "# Dict -> Set \n",
    "\n",
    "my_dict = {'z': 12, 'f': 78, 'a': 1, 'b': 2, 'c': 3 } \n",
    "my_set = set(my_dict.keys()) \n",
    "print(my_set) "
   ]
  },
  {
   "cell_type": "code",
   "execution_count": null,
   "id": "c416488c-aeff-47ad-8ba2-1a8dae92db74",
   "metadata": {},
   "outputs": [],
   "source": []
  }
 ],
 "metadata": {
  "kernelspec": {
   "display_name": "Python 3 (ipykernel)",
   "language": "python",
   "name": "python3"
  },
  "language_info": {
   "codemirror_mode": {
    "name": "ipython",
    "version": 3
   },
   "file_extension": ".py",
   "mimetype": "text/x-python",
   "name": "python",
   "nbconvert_exporter": "python",
   "pygments_lexer": "ipython3",
   "version": "3.12.0"
  }
 },
 "nbformat": 4,
 "nbformat_minor": 5
}
