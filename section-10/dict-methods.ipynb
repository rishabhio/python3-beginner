{
 "cells": [
  {
   "cell_type": "code",
   "execution_count": 3,
   "id": "51b920c0-4203-40d9-b6f4-9ff25877ed8e",
   "metadata": {},
   "outputs": [],
   "source": [
    "# .items() \n",
    "# Returns a view object, containing key-value pairs of the dictionary \n",
    "\n",
    "my_dict = { \"name\": \"Python\", \"application\": \"data science\" } \n"
   ]
  },
  {
   "cell_type": "code",
   "execution_count": 5,
   "id": "744bcbf7-6835-4a44-8742-141c7417ce3c",
   "metadata": {},
   "outputs": [
    {
     "name": "stdout",
     "output_type": "stream",
     "text": [
      "name Python\n",
      "application data science\n"
     ]
    }
   ],
   "source": [
    "all_items = my_dict.items() \n",
    "\n",
    "for key, value in all_items:\n",
    "    print(key, value) "
   ]
  },
  {
   "cell_type": "code",
   "execution_count": 7,
   "id": "1598a70a-001c-434c-a1f8-83011b210a4f",
   "metadata": {},
   "outputs": [
    {
     "name": "stdout",
     "output_type": "stream",
     "text": [
      "{}\n"
     ]
    }
   ],
   "source": [
    "# clear() \n",
    "# Removes all key-value pairs from the dict \n",
    "\n",
    "one = {\"name\": \"Alice\", \"age\": 20 } \n",
    "one.clear() \n",
    "print(one) "
   ]
  },
  {
   "cell_type": "code",
   "execution_count": 9,
   "id": "47b52bbc-30ff-4f36-9880-c50fd7ec6a52",
   "metadata": {},
   "outputs": [
    {
     "name": "stdout",
     "output_type": "stream",
     "text": [
      "{'name': 'Bob', 'age': 30}\n"
     ]
    }
   ],
   "source": [
    "# copy() \n",
    "# shallow copy \n",
    "\n",
    "original_dict = {\"name\": \"Bob\", \"age\": 30 } \n",
    "new_dict = original_dict.copy() \n",
    "print(new_dict) "
   ]
  },
  {
   "cell_type": "code",
   "execution_count": 12,
   "id": "52afa731-369f-46d5-a781-0a33f9aa617f",
   "metadata": {},
   "outputs": [
    {
     "name": "stdout",
     "output_type": "stream",
     "text": [
      "{'apple': 0.99, 'guava': 0.99, 'orange': 0.99}\n"
     ]
    }
   ],
   "source": [
    "# fromkeys \n",
    "# Creates a new dictionary with the specified keys and a common value \n",
    "\n",
    "keys = [\"apple\", \"guava\", \"orange\" ] \n",
    "default_price = 0.99\n",
    "\n",
    "fruits_dict = dict.fromkeys( keys, default_price )\n",
    "print(fruits_dict) "
   ]
  },
  {
   "cell_type": "code",
   "execution_count": 13,
   "id": "c63adb55-df8d-49f4-aa59-6a91bf604411",
   "metadata": {},
   "outputs": [
    {
     "name": "stdout",
     "output_type": "stream",
     "text": [
      "dict_keys(['name', 'age'])\n"
     ]
    }
   ],
   "source": [
    "# keys : it will return all the keys ( as a list ) \n",
    "# values : it will return all the values ( as a list ) \n",
    "\n",
    "my_dict = {\"name\": \"Eve\", \"age\": 40 } \n",
    "\n",
    "my_keys = my_dict.keys() \n",
    "print(my_keys) "
   ]
  },
  {
   "cell_type": "code",
   "execution_count": 15,
   "id": "b2cac8fd-c33f-4e8e-9dc0-1aae47a94ebf",
   "metadata": {},
   "outputs": [
    {
     "name": "stdout",
     "output_type": "stream",
     "text": [
      "dict_values(['Eve', 40])\n"
     ]
    }
   ],
   "source": [
    "values = my_dict.values() \n",
    "print(values) "
   ]
  },
  {
   "cell_type": "code",
   "execution_count": 17,
   "id": "3a6753f4-9385-48f6-a659-ab11d5e9561e",
   "metadata": {},
   "outputs": [
    {
     "name": "stdout",
     "output_type": "stream",
     "text": [
      "40\n",
      "{'name': 'Eve'}\n"
     ]
    }
   ],
   "source": [
    "# pop \n",
    "my_dict = {\"name\": \"Eve\", \"age\": 40 } \n",
    "age = my_dict.pop(\"age\") \n",
    "print(age) \n",
    "print(my_dict) \n"
   ]
  },
  {
   "cell_type": "code",
   "execution_count": 19,
   "id": "c9967f4d-fe90-42fa-aa49-8158ee9ceef3",
   "metadata": {},
   "outputs": [
    {
     "name": "stdout",
     "output_type": "stream",
     "text": [
      "('grapes', 50)\n",
      "{'apple': 12, 'guava': 102}\n"
     ]
    }
   ],
   "source": [
    "# popitem \n",
    "my_dict = dict() \n",
    "my_dict[\"apple\"] = 12 \n",
    "my_dict[\"guava\"] = 102 \n",
    "my_dict[\"grapes\"] = 50 \n",
    "\n",
    "last_item = my_dict.popitem() \n",
    "print(last_item) \n",
    "print(my_dict) \n"
   ]
  },
  {
   "cell_type": "code",
   "execution_count": 20,
   "id": "7d6e5275-fa2c-497c-975e-271a6fd22be2",
   "metadata": {},
   "outputs": [
    {
     "name": "stdout",
     "output_type": "stream",
     "text": [
      "{'a': 1, 'b': 2, 'c': 3, 'd': 4}\n",
      "{'c': 3, 'd': 4}\n"
     ]
    }
   ],
   "source": [
    "# update \n",
    "\n",
    "one = {\"a\": 1, \"b\": 2 } \n",
    "two = {\"c\": 3, \"d\": 4 } \n",
    "\n",
    "one.update( two ) \n",
    "print(one) \n",
    "print(two) "
   ]
  },
  {
   "cell_type": "code",
   "execution_count": null,
   "id": "733025b3-bf71-4e8f-9f61-4298fcb06bcf",
   "metadata": {},
   "outputs": [],
   "source": []
  }
 ],
 "metadata": {
  "kernelspec": {
   "display_name": "Python 3 (ipykernel)",
   "language": "python",
   "name": "python3"
  },
  "language_info": {
   "codemirror_mode": {
    "name": "ipython",
    "version": 3
   },
   "file_extension": ".py",
   "mimetype": "text/x-python",
   "name": "python",
   "nbconvert_exporter": "python",
   "pygments_lexer": "ipython3",
   "version": "3.11.4"
  }
 },
 "nbformat": 4,
 "nbformat_minor": 5
}
