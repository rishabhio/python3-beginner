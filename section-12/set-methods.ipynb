{
 "cells": [
  {
   "cell_type": "code",
   "execution_count": 2,
   "id": "c8747d38-5036-479e-be40-5fe61d224144",
   "metadata": {},
   "outputs": [
    {
     "name": "stdout",
     "output_type": "stream",
     "text": [
      "{'apple', 'cherry', 'grapes', 'banana'}\n"
     ]
    }
   ],
   "source": [
    "fruits = {'apple', 'grapes', 'cherry', 'banana' } \n",
    "print(fruits) "
   ]
  },
  {
   "cell_type": "code",
   "execution_count": 3,
   "id": "d46485c2-d98c-4a40-9d05-edf054ffefec",
   "metadata": {},
   "outputs": [
    {
     "name": "stdout",
     "output_type": "stream",
     "text": [
      "{'grapes', 'banana', 'apple', 'cherry', 'orange'}\n"
     ]
    }
   ],
   "source": [
    "# add \n",
    "# Adds an element to the set \n",
    "\n",
    "fruits.add('orange') \n",
    "print(fruits) "
   ]
  },
  {
   "cell_type": "code",
   "execution_count": 4,
   "id": "001309fb-a346-48ec-9bf0-6206adf832ec",
   "metadata": {},
   "outputs": [
    {
     "name": "stdout",
     "output_type": "stream",
     "text": [
      "{'grapes', 'banana', 'apple', 'cherry', 'orange'}\n"
     ]
    }
   ],
   "source": [
    "# What if we try to add already existing element \n",
    "fruits.add('apple') \n",
    "print(fruits) "
   ]
  },
  {
   "cell_type": "code",
   "execution_count": 5,
   "id": "a746e870-0c85-44ab-9671-7802e7118760",
   "metadata": {},
   "outputs": [
    {
     "name": "stdout",
     "output_type": "stream",
     "text": [
      "set()\n"
     ]
    }
   ],
   "source": [
    "# clear \n",
    "# Removes all the elements from the set \n",
    "fruits.clear() \n",
    "print(fruits) "
   ]
  },
  {
   "cell_type": "code",
   "execution_count": 7,
   "id": "9070a468-77ea-42ef-924a-46a8a4963f16",
   "metadata": {},
   "outputs": [
    {
     "name": "stdout",
     "output_type": "stream",
     "text": [
      "{1, 3, 5, 7}\n"
     ]
    }
   ],
   "source": [
    "odds_with_evens = { 1, 3, 5, 7, 4, 8 } \n",
    "evens_with_odds = { 2, 4, 6, 8 } \n",
    "\n",
    "# difference \n",
    "# Returns a \"new set\" containing all the elements which are in the set bot not in the other set  \n",
    "diff_set = odds_with_evens.difference( evens_with_odds ) \n",
    "print(diff_set) "
   ]
  },
  {
   "cell_type": "code",
   "execution_count": 8,
   "id": "11eb4f0e-7e56-4ed7-aa23-9965cf72e473",
   "metadata": {},
   "outputs": [
    {
     "name": "stdout",
     "output_type": "stream",
     "text": [
      "{1, 2, 3}\n"
     ]
    }
   ],
   "source": [
    "# difference_update \n",
    "# Updates the set, removing the elements which are also in the other set \n",
    "set1 = {1, 2, 3, 4, 5 } \n",
    "set2 = {4, 5, 6, 7 , 8 } \n",
    "\n",
    "set1.difference_update(set2) \n",
    "print(set1) "
   ]
  },
  {
   "cell_type": "code",
   "execution_count": 9,
   "id": "27174f36-6d45-4c43-93a6-5dfb570f4820",
   "metadata": {},
   "outputs": [
    {
     "name": "stdout",
     "output_type": "stream",
     "text": [
      "{'apple', 'cherry'}\n"
     ]
    }
   ],
   "source": [
    "# discard( element ) \n",
    "# Removes an element from the set if it is present \n",
    "\n",
    "fruits = {\"apple\", \"banana\", \"cherry\" } \n",
    "fruits.discard(\"banana\") \n",
    "print(fruits) "
   ]
  },
  {
   "cell_type": "code",
   "execution_count": 10,
   "id": "96424839-ca18-4843-a7dc-e945045793cd",
   "metadata": {},
   "outputs": [
    {
     "name": "stdout",
     "output_type": "stream",
     "text": [
      "{4, 5}\n"
     ]
    }
   ],
   "source": [
    "# intersection \n",
    "# New set :: common elements of the 2 sets \n",
    "set1 = {1, 2, 3, 4 ,5 } \n",
    "set2 = {4, 5, 6, 7, 8 } \n",
    "intersection_set = set1.intersection(set2) \n",
    "print(intersection_set) "
   ]
  },
  {
   "cell_type": "code",
   "execution_count": 11,
   "id": "298a0afd-5168-4f9f-bf85-bafc63ce376b",
   "metadata": {},
   "outputs": [
    {
     "name": "stdout",
     "output_type": "stream",
     "text": [
      "{4, 5}\n"
     ]
    }
   ],
   "source": [
    "# intersection_update \n",
    "set1 = {1, 2, 3, 4 ,5 } \n",
    "set2 = {4, 5, 6, 7, 8 } \n",
    "set1.intersection_update(set2) \n",
    "print(set1) "
   ]
  },
  {
   "cell_type": "code",
   "execution_count": 13,
   "id": "f1c55252-2b40-42f2-b31b-83ddc9b46c3b",
   "metadata": {},
   "outputs": [
    {
     "name": "stdout",
     "output_type": "stream",
     "text": [
      "True\n",
      "False\n"
     ]
    }
   ],
   "source": [
    "# .isdisjoint( set2 ) \n",
    "set1 = {1, 2, 3 } \n",
    "set2 = {4, 5, 6 } \n",
    "print(set1.isdisjoint(set2))\n",
    "set3 = {3, 4, 5 } \n",
    "print(set1.isdisjoint(set3))"
   ]
  },
  {
   "cell_type": "code",
   "execution_count": 15,
   "id": "d7abe18d-4e30-4545-ab5a-a6a00b5c22e4",
   "metadata": {},
   "outputs": [
    {
     "name": "stdout",
     "output_type": "stream",
     "text": [
      "True\n",
      "False\n"
     ]
    }
   ],
   "source": [
    "# .issubset( set2 ) \n",
    "\n",
    "set1 = {1, 2, 3 } \n",
    "set2 = { 1, 2, 3, 4, 5 } \n",
    "print(set1.issubset(set2))\n",
    "print(set2.issubset(set1))"
   ]
  },
  {
   "cell_type": "code",
   "execution_count": 16,
   "id": "cb67d80d-4e81-472b-9e10-8b2b3570b4cc",
   "metadata": {},
   "outputs": [
    {
     "name": "stdout",
     "output_type": "stream",
     "text": [
      "False\n",
      "True\n"
     ]
    }
   ],
   "source": [
    "# .issuperset( set2 ) \n",
    "\n",
    "set1 = {1, 2, 3 } \n",
    "set2 = { 1, 2, 3, 4, 5 } \n",
    "print(set1.issuperset(set2))\n",
    "print(set2.issuperset(set1))"
   ]
  },
  {
   "cell_type": "code",
   "execution_count": 24,
   "id": "b1be0e70-4c90-4a35-900b-cfcedae8d4f9",
   "metadata": {},
   "outputs": [
    {
     "name": "stdout",
     "output_type": "stream",
     "text": [
      "cherry\n",
      "{'guava', 'orange'}\n"
     ]
    }
   ],
   "source": [
    "# .pop() \n",
    "\n",
    "fruits = {\"guava\", \"cherry\", \"orange\"} \n",
    "removed_fruit = fruits.pop() \n",
    "print(removed_fruit) \n",
    "print(fruits) "
   ]
  },
  {
   "cell_type": "code",
   "execution_count": 25,
   "id": "c5ecb7d0-5bfa-4b55-b545-94c6bba715d9",
   "metadata": {},
   "outputs": [
    {
     "name": "stdout",
     "output_type": "stream",
     "text": [
      "{'apple', 'cherry'}\n"
     ]
    }
   ],
   "source": [
    "# remove( element ) \n",
    "\n",
    "fruits = {'apple', 'banana', 'cherry' } \n",
    "fruits.remove('banana') \n",
    "print(fruits) "
   ]
  },
  {
   "cell_type": "code",
   "execution_count": 26,
   "id": "84559b54-4152-4307-89c6-7356eddd06d2",
   "metadata": {},
   "outputs": [
    {
     "ename": "KeyError",
     "evalue": "'banana'",
     "output_type": "error",
     "traceback": [
      "\u001b[0;31m---------------------------------------------------------------------------\u001b[0m",
      "\u001b[0;31mKeyError\u001b[0m                                  Traceback (most recent call last)",
      "Cell \u001b[0;32mIn[26], line 1\u001b[0m\n\u001b[0;32m----> 1\u001b[0m \u001b[43mfruits\u001b[49m\u001b[38;5;241;43m.\u001b[39;49m\u001b[43mremove\u001b[49m\u001b[43m(\u001b[49m\u001b[38;5;124;43m'\u001b[39;49m\u001b[38;5;124;43mbanana\u001b[39;49m\u001b[38;5;124;43m'\u001b[39;49m\u001b[43m)\u001b[49m \n",
      "\u001b[0;31mKeyError\u001b[0m: 'banana'"
     ]
    }
   ],
   "source": [
    "fruits.remove('banana') "
   ]
  },
  {
   "cell_type": "code",
   "execution_count": 27,
   "id": "34cb4d1d-172c-41af-84f2-5c4f8cbf4b71",
   "metadata": {},
   "outputs": [
    {
     "name": "stdout",
     "output_type": "stream",
     "text": [
      "{1, 2, 5, 6}\n"
     ]
    }
   ],
   "source": [
    "# symmetric_difference ( other_set ) \n",
    "\n",
    "set1 = {1, 2, 3, 4 } \n",
    "set2 = {3, 4, 5, 6 } \n",
    "print(set1.symmetric_difference(set2))\n"
   ]
  },
  {
   "cell_type": "code",
   "execution_count": 28,
   "id": "bf5b4913-01cd-4548-ba27-ba2f76dac599",
   "metadata": {},
   "outputs": [
    {
     "name": "stdout",
     "output_type": "stream",
     "text": [
      "{1, 2, 5, 6}\n"
     ]
    }
   ],
   "source": [
    "# symmetric_difference_update \n",
    "set1 = {1, 2, 3, 4 } \n",
    "set2 = {3, 4, 5, 6 } \n",
    "set1.symmetric_difference_update(set2) \n",
    "print(set1) "
   ]
  },
  {
   "cell_type": "code",
   "execution_count": 29,
   "id": "a0467ee9-c4a1-4b51-adb6-d4bef0f56de3",
   "metadata": {},
   "outputs": [
    {
     "name": "stdout",
     "output_type": "stream",
     "text": [
      "{1, 2, 3, 4, 5}\n"
     ]
    }
   ],
   "source": [
    "# union\n",
    "\n",
    "set1 = {1, 2, 3 } \n",
    "set2 = {3, 4, 5 } \n",
    "union_set = set1.union(set2) \n",
    "print(union_set) \n"
   ]
  },
  {
   "cell_type": "code",
   "execution_count": 30,
   "id": "0161b128-e0c5-447f-a5f4-564bba4de8aa",
   "metadata": {},
   "outputs": [
    {
     "name": "stdout",
     "output_type": "stream",
     "text": [
      "{1, 2, 3, 4}\n"
     ]
    }
   ],
   "source": [
    "# update \n",
    "\n",
    "set1 = {1, 2, 3 } \n",
    "set2 = {2, 3, 4 } \n",
    "\n",
    "set1.update(set2) \n",
    "\n",
    "print(set1) "
   ]
  },
  {
   "cell_type": "code",
   "execution_count": null,
   "id": "931d62bc-ad0d-4d57-915a-9bca34c3f617",
   "metadata": {},
   "outputs": [],
   "source": []
  }
 ],
 "metadata": {
  "kernelspec": {
   "display_name": "Python 3 (ipykernel)",
   "language": "python",
   "name": "python3"
  },
  "language_info": {
   "codemirror_mode": {
    "name": "ipython",
    "version": 3
   },
   "file_extension": ".py",
   "mimetype": "text/x-python",
   "name": "python",
   "nbconvert_exporter": "python",
   "pygments_lexer": "ipython3",
   "version": "3.12.0"
  }
 },
 "nbformat": 4,
 "nbformat_minor": 5
}
