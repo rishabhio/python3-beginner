{
 "cells": [
  {
   "cell_type": "code",
   "execution_count": 1,
   "id": "1663a9a6-e7c4-43eb-81c4-22721acb0098",
   "metadata": {},
   "outputs": [
    {
     "data": {
      "text/plain": [
       "[1, 2, 3, 4]"
      ]
     },
     "execution_count": 1,
     "metadata": {},
     "output_type": "execute_result"
    }
   ],
   "source": [
    "# methods vs functions \n",
    "\n",
    "my_list = [ 1, 2, 3 ] \n",
    "my_list.append(4) \n",
    "my_list"
   ]
  },
  {
   "cell_type": "code",
   "execution_count": 3,
   "id": "cf381426-edf3-447d-81b5-72fa822ca698",
   "metadata": {},
   "outputs": [],
   "source": [
    "clear_list = [ 1, 2, 3, 4 ] \n",
    "clear_list.clear()"
   ]
  },
  {
   "cell_type": "code",
   "execution_count": 4,
   "id": "205c3e72-f1d7-4ea2-a147-a8ad3dfc165f",
   "metadata": {},
   "outputs": [
    {
     "data": {
      "text/plain": [
       "[]"
      ]
     },
     "execution_count": 4,
     "metadata": {},
     "output_type": "execute_result"
    }
   ],
   "source": [
    "clear_list"
   ]
  },
  {
   "cell_type": "code",
   "execution_count": 5,
   "id": "eb4b730d-352a-4835-85bd-b215db9c6b5f",
   "metadata": {},
   "outputs": [
    {
     "data": {
      "text/plain": [
       "['a', 'b', 'c']"
      ]
     },
     "execution_count": 5,
     "metadata": {},
     "output_type": "execute_result"
    }
   ],
   "source": [
    "A = [ 'a', 'b', 'c' ] \n",
    "B = A.copy() \n",
    "B"
   ]
  },
  {
   "cell_type": "code",
   "execution_count": 6,
   "id": "e54d794b-0a24-454e-9eab-95e2c68bcb4b",
   "metadata": {},
   "outputs": [
    {
     "data": {
      "text/plain": [
       "3"
      ]
     },
     "execution_count": 6,
     "metadata": {},
     "output_type": "execute_result"
    }
   ],
   "source": [
    "duplicates = [ 1, 1, 2, 2, 89, 98, 2, 1, 12 ] \n",
    "count_of_two = duplicates.count(2) \n",
    "count_of_two"
   ]
  },
  {
   "cell_type": "code",
   "execution_count": 7,
   "id": "217bc569-9c3a-4a73-aa1d-1c0c0141685f",
   "metadata": {},
   "outputs": [
    {
     "name": "stdout",
     "output_type": "stream",
     "text": [
      "[True, False, False, 1.0, 2.1, 3.4]\n"
     ]
    }
   ],
   "source": [
    "# extend \n",
    "M = [ True, False, False ] \n",
    "N = [ 1.0, 2.1, 3.4 ] \n",
    "M.extend(N) \n",
    "print(M)"
   ]
  },
  {
   "cell_type": "code",
   "execution_count": 8,
   "id": "802a4820-5519-4181-bf68-ac8ba095f1cd",
   "metadata": {},
   "outputs": [
    {
     "name": "stdout",
     "output_type": "stream",
     "text": [
      "3\n"
     ]
    }
   ],
   "source": [
    "ids = [ 1, 2, 87, 43, 45, 32 ] \n",
    "index = ids.index(43) \n",
    "print(index) "
   ]
  },
  {
   "cell_type": "code",
   "execution_count": 9,
   "id": "fa3a81ce-9321-4d1a-bfde-f9278cae51d7",
   "metadata": {},
   "outputs": [
    {
     "ename": "ValueError",
     "evalue": "430 is not in list",
     "output_type": "error",
     "traceback": [
      "\u001b[0;31m---------------------------------------------------------------------------\u001b[0m",
      "\u001b[0;31mValueError\u001b[0m                                Traceback (most recent call last)",
      "Cell \u001b[0;32mIn[9], line 1\u001b[0m\n\u001b[0;32m----> 1\u001b[0m \u001b[43mids\u001b[49m\u001b[38;5;241;43m.\u001b[39;49m\u001b[43mindex\u001b[49m\u001b[43m(\u001b[49m\u001b[38;5;241;43m430\u001b[39;49m\u001b[43m)\u001b[49m \n",
      "\u001b[0;31mValueError\u001b[0m: 430 is not in list"
     ]
    }
   ],
   "source": [
    "ids.index(430) "
   ]
  },
  {
   "cell_type": "code",
   "execution_count": 10,
   "id": "d8c47e8a-efc7-4952-87dc-de47c2227fa9",
   "metadata": {},
   "outputs": [],
   "source": [
    "# insert \n",
    "X = [ 1, 2, 3, 5 ] \n",
    "X.insert( 3, 4 ) "
   ]
  },
  {
   "cell_type": "code",
   "execution_count": 12,
   "id": "32594d4b-1373-4404-abf4-a57e26786fa2",
   "metadata": {},
   "outputs": [
    {
     "data": {
      "text/plain": [
       "[1, 2, 3, 4, 5]"
      ]
     },
     "execution_count": 12,
     "metadata": {},
     "output_type": "execute_result"
    }
   ],
   "source": [
    "X"
   ]
  },
  {
   "cell_type": "code",
   "execution_count": 13,
   "id": "2f68feff-d2b5-4c2f-911d-9b5da02de4be",
   "metadata": {},
   "outputs": [
    {
     "data": {
      "text/plain": [
       "[1, 2, 3, 4]"
      ]
     },
     "execution_count": 13,
     "metadata": {},
     "output_type": "execute_result"
    }
   ],
   "source": [
    "# pop \n",
    "Y = [ 1, 2, 3, 4, 5 ] \n",
    "Y.pop() \n",
    "Y "
   ]
  },
  {
   "cell_type": "code",
   "execution_count": 15,
   "id": "9c77fcfd-b96c-4602-8268-5875033c571f",
   "metadata": {},
   "outputs": [
    {
     "data": {
      "text/plain": [
       "[1, 2, 3, 4, 5]"
      ]
     },
     "execution_count": 15,
     "metadata": {},
     "output_type": "execute_result"
    }
   ],
   "source": [
    "# remove \n",
    "Z = [1, 2, 2, 3, 4, 5 ] \n",
    "Z.remove( 2 ) \n",
    "Z\n"
   ]
  },
  {
   "cell_type": "code",
   "execution_count": 17,
   "id": "0c58deaa-1846-4523-bc5b-b70842b1f617",
   "metadata": {},
   "outputs": [
    {
     "data": {
      "text/plain": [
       "[5, 4, 3, 2, 1]"
      ]
     },
     "execution_count": 17,
     "metadata": {},
     "output_type": "execute_result"
    }
   ],
   "source": [
    "# reverse \n",
    "\n",
    "R = [1, 2, 3, 4, 5 ] \n",
    "R.reverse() \n",
    "R "
   ]
  },
  {
   "cell_type": "code",
   "execution_count": 19,
   "id": "a66b84f4-520e-4a5c-bea3-fb3d9e6fede6",
   "metadata": {},
   "outputs": [
    {
     "data": {
      "text/plain": [
       "[4, 5, 6, 8, 9, 21, 23, 45, 201]"
      ]
     },
     "execution_count": 19,
     "metadata": {},
     "output_type": "execute_result"
    }
   ],
   "source": [
    "# sort \n",
    "N1 = [ 23, 21, 9, 4, 5, 6, 8, 201, 45 ] \n",
    "N1.sort() \n",
    "N1"
   ]
  },
  {
   "cell_type": "code",
   "execution_count": 20,
   "id": "6baa5988-85c6-4758-a320-1eec46edbd6a",
   "metadata": {},
   "outputs": [
    {
     "data": {
      "text/plain": [
       "[1, 2, 4, 5, 7, 9]"
      ]
     },
     "execution_count": 20,
     "metadata": {},
     "output_type": "execute_result"
    }
   ],
   "source": [
    "M1 = [5, 2, 1, 4, 9, 7 ] \n",
    "M2 = sorted(M1) \n",
    "M2"
   ]
  }
 ],
 "metadata": {
  "kernelspec": {
   "display_name": "Python 3 (ipykernel)",
   "language": "python",
   "name": "python3"
  },
  "language_info": {
   "codemirror_mode": {
    "name": "ipython",
    "version": 3
   },
   "file_extension": ".py",
   "mimetype": "text/x-python",
   "name": "python",
   "nbconvert_exporter": "python",
   "pygments_lexer": "ipython3",
   "version": "3.11.4"
  }
 },
 "nbformat": 4,
 "nbformat_minor": 5
}
